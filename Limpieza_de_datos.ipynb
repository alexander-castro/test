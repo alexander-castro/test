{
  "nbformat": 4,
  "nbformat_minor": 0,
  "metadata": {
    "colab": {
      "name": "Limpieza de datos.ipynb",
      "provenance": [],
      "collapsed_sections": [],
      "include_colab_link": true
    },
    "kernelspec": {
      "display_name": "Python 3",
      "name": "python3"
    }
  },
  "cells": [
    {
      "cell_type": "markdown",
      "metadata": {
        "id": "view-in-github",
        "colab_type": "text"
      },
      "source": [
        "<a href=\"https://colab.research.google.com/github/alexander-castro/test/blob/main/Limpieza_de_datos.ipynb\" target=\"_parent\"><img src=\"https://colab.research.google.com/assets/colab-badge.svg\" alt=\"Open In Colab\"/></a>"
      ]
    },
    {
      "cell_type": "markdown",
      "metadata": {
        "id": "Q7ffxRZZbhIP"
      },
      "source": [
        "![image](https://docs.google.com/uc?export=download&id=1Nh6vjig-ADM1RMbaHrj_GItD3O1ZW4Vr)\n",
        "# Análisis con Machine Learning - MINE4206\n",
        "<table align=\"center\">\n",
        "  <td>\n",
        "    <a href=\"https://colab.research.google.com/github/jpcano1/MINE_4206_Analisis_con_Machine_Learning/blob/main/Lab%20I/Lab_I.ipynb\" target=\"_blank\"><img src=\"https://colab.research.google.com/assets/colab-badge.svg\" alt=\"Open In Colab\"/>\n",
        "  </td>\n",
        "</table>\n",
        "\n",
        "\n"
      ]
    },
    {
      "cell_type": "markdown",
      "metadata": {
        "id": "ujiIcM5n_--r"
      },
      "source": [
        "### **1. Importando las librerias requeridas para el desarrollo del laboratorio**\n"
      ]
    },
    {
      "cell_type": "markdown",
      "metadata": {
        "id": "ZPlp9hu5_--s"
      },
      "source": [
        "Para la transformación de los datos, así como para el entrenamiento de los modelos y la visualización de los resultados, se importan las siguientes librerías:\n"
      ]
    },
    {
      "cell_type": "markdown",
      "metadata": {
        "id": "gi-c3h5V_--t"
      },
      "source": [
        "**Nota:** Para asegurarse de tener las últimas versiones y todos los paquetes instalados que por lo general no vienen en Google Colab. pueden ejecutar la sigiuente celda."
      ]
    },
    {
      "cell_type": "code",
      "metadata": {
        "colab": {
          "base_uri": "https://localhost:8080/"
        },
        "id": "co872j2__--t",
        "outputId": "8447b984-4fa8-489f-f09a-68580f10efad"
      },
      "source": [
        "%%shell\n",
        "shred -u setup_colab_general.py\n",
        "wget -q \"https://github.com/jpcano1/python_utils/raw/main/setup_colab_general.py\" -O setup_colab_general.py\n",
        "pip install -q https://github.com/pandas-profiling/pandas-profiling/archive/master.zip\n",
        "pip install -q tqdm==4.56.0"
      ],
      "execution_count": null,
      "outputs": [
        {
          "output_type": "stream",
          "text": [
            "shred: setup_colab_general.py: failed to open for writing: No such file or directory\n",
            "\u001b[K     \\ 38.3MB 2.1MB/s\n",
            "\u001b[K     |████████████████████████████████| 81kB 4.6MB/s \n",
            "\u001b[K     |████████████████████████████████| 1.1MB 25.3MB/s \n",
            "\u001b[K     |████████████████████████████████| 3.2MB 47.0MB/s \n",
            "\u001b[K     |████████████████████████████████| 61kB 3.9MB/s \n",
            "\u001b[K     |████████████████████████████████| 81kB 5.6MB/s \n",
            "\u001b[K     |████████████████████████████████| 296kB 60.3MB/s \n",
            "\u001b[?25h  Building wheel for pandas-profiling (setup.py) ... \u001b[?25l\u001b[?25hdone\n",
            "  Building wheel for htmlmin (setup.py) ... \u001b[?25l\u001b[?25hdone\n",
            "  Building wheel for phik (setup.py) ... \u001b[?25l\u001b[?25hdone\n",
            "\u001b[31mERROR: google-colab 1.0.0 has requirement requests~=2.23.0, but you'll have requests 2.25.1 which is incompatible.\u001b[0m\n",
            "\u001b[31mERROR: datascience 0.10.6 has requirement folium==0.2.1, but you'll have folium 0.8.3 which is incompatible.\u001b[0m\n",
            "\u001b[31mERROR: phik 0.11.2 has requirement scipy>=1.5.2, but you'll have scipy 1.4.1 which is incompatible.\u001b[0m\n",
            "\u001b[K     |████████████████████████████████| 81kB 4.0MB/s \n",
            "\u001b[?25h"
          ],
          "name": "stdout"
        },
        {
          "output_type": "execute_result",
          "data": {
            "text/plain": [
              ""
            ]
          },
          "metadata": {
            "tags": []
          },
          "execution_count": 3
        }
      ]
    },
    {
      "cell_type": "code",
      "metadata": {
        "id": "AA6pkNus_--w"
      },
      "source": [
        "#Data management Libraries\n",
        "import pandas as pd\n",
        "import numpy as np\n",
        "import sys\n",
        "from pandas_profiling import ProfileReport\n",
        "\n",
        "\n",
        "# Data Modeling Libraries\n",
        "from sklearn.impute import SimpleImputer\n",
        "from sklearn.preprocessing import OneHotEncoder, OrdinalEncoder, MinMaxScaler, MaxAbsScaler, LabelEncoder\n",
        "from sklearn.model_selection import GridSearchCV\n",
        "from sklearn.neighbors import KNeighborsClassifier\n",
        "from sklearn.pipeline import Pipeline, FeatureUnion\n",
        "from sklearn.metrics import classification_report, plot_confusion_matrix\n",
        "from sklearn.compose import make_column_selector, ColumnTransformer\n",
        "\n",
        "\n",
        "# Data visualization Libraries\n",
        "import matplotlib.pyplot as plt\n",
        "import seaborn as sns\n",
        "\n",
        "#Save the model\n",
        "from joblib import dump, load"
      ],
      "execution_count": null,
      "outputs": []
    },
    {
      "cell_type": "markdown",
      "metadata": {
        "id": "zJ_F192s_--x"
      },
      "source": [
        "### **2. Perfilamiento y entendimiento de los datos**"
      ]
    },
    {
      "cell_type": "markdown",
      "metadata": {
        "id": "wG1m7-lu68xC"
      },
      "source": [
        "Al intentar cargar los datos se obtuvo un error debido a la presencia de caracteres especiales, por ello fue necesario removerlos, para ello primero se transformó el texto a minúscula y luego se reemplazaron los caracteres especiales, este proceso se hizo usando la herramienta VsCode."
      ]
    },
    {
      "cell_type": "markdown",
      "metadata": {
        "id": "wktrDRNk7Bfm"
      },
      "source": [
        "Luego se identificó que los registros tenían el siguiente formato:\n",
        "\n",
        "\"5/04/2021 15:27,\"\"maria consuelo  rodriguez \"\",-,\"\"curso: teoria de sistemas en las organizaciones - (204016a_951)\"\",registros,\"\"informe de registro visualizado\"\",\"\"the user with id '87' viewed the log report for the course with id '98'.\"\",web,181.131.96.37\"\n"
      ]
    },
    {
      "cell_type": "markdown",
      "metadata": {
        "id": "yEbBDzHV7ENc"
      },
      "source": [
        "Donde el uso de las comillas no permitía una adecuada lectura de los datos. Por ello se eliminan.\n",
        "5/04/2021 15:27,maria consuelo  rodriguez ,-,curso: teoria de sistemas en las organizaciones - (204016a_951),registros,informe de registro visualizado,the user with id '87' viewed the log report for the course with id '98'.,web,181.131.96.37"
      ]
    },
    {
      "cell_type": "markdown",
      "metadata": {
        "id": "q_9LXa6__--y"
      },
      "source": [
        "\n",
        "\n",
        "#### Lectura de los datos\n",
        "Primero, se leen los datos y se visualizan que se hayan leido correctamente."
      ]
    },
    {
      "cell_type": "code",
      "metadata": {
        "colab": {
          "base_uri": "https://localhost:8080/",
          "height": 202
        },
        "id": "mkPdM50YheBh",
        "outputId": "55004e61-5de6-4f42-fb10-b156c929633b"
      },
      "source": [
        "data = pd.read_csv('https://raw.githubusercontent.com/alexander-castro/test/main/logs.csv')\n",
        "\n",
        "data.head()"
      ],
      "execution_count": null,
      "outputs": [
        {
          "output_type": "execute_result",
          "data": {
            "text/html": [
              "<div>\n",
              "<style scoped>\n",
              "    .dataframe tbody tr th:only-of-type {\n",
              "        vertical-align: middle;\n",
              "    }\n",
              "\n",
              "    .dataframe tbody tr th {\n",
              "        vertical-align: top;\n",
              "    }\n",
              "\n",
              "    .dataframe thead th {\n",
              "        text-align: right;\n",
              "    }\n",
              "</style>\n",
              "<table border=\"1\" class=\"dataframe\">\n",
              "  <thead>\n",
              "    <tr style=\"text-align: right;\">\n",
              "      <th></th>\n",
              "      <th>hora</th>\n",
              "      <th>nombre completo del usuario</th>\n",
              "      <th>usuario afectado</th>\n",
              "      <th>contexto del evento</th>\n",
              "      <th>componente</th>\n",
              "      <th>nombre evento</th>\n",
              "      <th>descripcion</th>\n",
              "    </tr>\n",
              "  </thead>\n",
              "  <tbody>\n",
              "    <tr>\n",
              "      <th>0</th>\n",
              "      <td>5/4/2021 15:27</td>\n",
              "      <td>maria consuelo  rodriguez</td>\n",
              "      <td>-</td>\n",
              "      <td>curso: teoria de sistemas en las organizacione...</td>\n",
              "      <td>registros</td>\n",
              "      <td>informe de registro visualizado</td>\n",
              "      <td>the user with id '87' viewed the log report fo...</td>\n",
              "    </tr>\n",
              "    <tr>\n",
              "      <th>1</th>\n",
              "      <td>5/4/2021 15:27</td>\n",
              "      <td>marco antonio  rodriguez</td>\n",
              "      <td>john sebastian rojas cordoba</td>\n",
              "      <td>tarea: unidad 1 - fase 2 - identificacion y an...</td>\n",
              "      <td>tarea</td>\n",
              "      <td>formulario de calificaciones visto</td>\n",
              "      <td>the user with id '547402' viewed the grading f...</td>\n",
              "    </tr>\n",
              "    <tr>\n",
              "      <th>2</th>\n",
              "      <td>5/4/2021 15:27</td>\n",
              "      <td>marco antonio  rodriguez</td>\n",
              "      <td>-</td>\n",
              "      <td>tarea: unidad 1 - fase 2 - identificacion y an...</td>\n",
              "      <td>tarea</td>\n",
              "      <td>visualizacion de las calificaciones</td>\n",
              "      <td>the user with id '547402' viewed the grading t...</td>\n",
              "    </tr>\n",
              "    <tr>\n",
              "      <th>3</th>\n",
              "      <td>5/4/2021 15:27</td>\n",
              "      <td>marco antonio  rodriguez</td>\n",
              "      <td>-</td>\n",
              "      <td>tarea: unidad 1 - fase 2 - identificacion y an...</td>\n",
              "      <td>tarea</td>\n",
              "      <td>visualizacion de las calificaciones</td>\n",
              "      <td>the user with id '547402' viewed the grading t...</td>\n",
              "    </tr>\n",
              "    <tr>\n",
              "      <th>4</th>\n",
              "      <td>5/4/2021 15:27</td>\n",
              "      <td>marco antonio  rodriguez</td>\n",
              "      <td>-</td>\n",
              "      <td>tarea: unidad 1 - fase 2 - identificacion y an...</td>\n",
              "      <td>tarea</td>\n",
              "      <td>visualizacion de las calificaciones</td>\n",
              "      <td>the user with id '547402' viewed the grading t...</td>\n",
              "    </tr>\n",
              "  </tbody>\n",
              "</table>\n",
              "</div>"
            ],
            "text/plain": [
              "             hora  ...                                        descripcion\n",
              "0  5/4/2021 15:27  ...  the user with id '87' viewed the log report fo...\n",
              "1  5/4/2021 15:27  ...  the user with id '547402' viewed the grading f...\n",
              "2  5/4/2021 15:27  ...  the user with id '547402' viewed the grading t...\n",
              "3  5/4/2021 15:27  ...  the user with id '547402' viewed the grading t...\n",
              "4  5/4/2021 15:27  ...  the user with id '547402' viewed the grading t...\n",
              "\n",
              "[5 rows x 7 columns]"
            ]
          },
          "metadata": {
            "tags": []
          },
          "execution_count": 4
        }
      ]
    },
    {
      "cell_type": "markdown",
      "metadata": {
        "id": "byeIWJ6s6XQC"
      },
      "source": [
        "Hora\n",
        "Fecha y hora del evento\n",
        "Fecha en formato dd/MM/yyyy hh:mm\n",
        "\n",
        "Nombre completo del usuario\n",
        "Nombre completo del usuario que realiza la acción \n",
        "Texto\n",
        "\n",
        "Usuario afectado\n",
        "Nombre completo del usuario al que afecta la acción \n",
        "Texto\n",
        "\n",
        "Contexto del evento\n",
        "Nombre del curso\n",
        "Texto compuesto (tipo de elemento:  nombre - Id)\n",
        "Tipo de elemento: Carpeta, Consulta, Contenido, Curso, Foro, Página, Tarea\n",
        "Nombre: texto\n",
        "id: para el caso del curso se tiene el identificador\n",
        "\n",
        "Componente\n",
        "Tipo de elemento\n",
        "Registros, Sistema, Tarea, Foro, Usuario, Página, Carpeta, Actividad del curso, H5P, Hoja de cálculo OpenOffice, Informe del calificador, Archivos enviados, Informe general, Informe de resultados, Historial de calificación, Hoja de cálculo Excel, Consulta, Tours para usuarios, Estadísticas, Archivo en texto plano\n",
        "\n",
        "Nombre evento\n",
        "Acción realizada\n",
        "Informe de registro visualizado, Curso visto, Visualización de las Calificaciones, Se ha visualizado el estado de la entrega., Perfil de usuario visto, Lista de usuarios vista, Módulo de curso visto, Informe de notas de usuario visto, Retroalimentación vista, Tema visto, Mensaje creado, Algún contenido ha sido publicado., Outline report viewed, Todos los envíos se están descargando., Informe de registro de usuario visualizado, Informe del usuario visualizado, Directorio descargado en formato Zip, Formulario de calificaciones visto, Se ha calificado el envío., Usuario calificado\n",
        "\n",
        "Descripción\n",
        "Detalles de la acción\n",
        "Ejemplo(cambia el id, el verbo y el recurso): \n",
        "The user with id '87' viewed the log report for the course with id '98'.\n",
        "\n",
        "Origen\n",
        "Tipo de origen\n",
        "web, restored\n",
        "\n",
        "Dirección IP\n",
        "Dirección IP de origen del evento \n",
        "Formato IPv4, X.X.X.X\n",
        "Ejemplo:\n",
        "181.131.107.193\n",
        "\n"
      ]
    },
    {
      "cell_type": "markdown",
      "metadata": {
        "id": "R_pXZRCH8HgX"
      },
      "source": [
        "# Creando el nuevo conjunto de datos\n",
        "De estos eventos se hace evidente que es necesario conservar sólo los que involucran a los estudiantes y su relación con el curso, por ello se requiere un algoritmo que cuente dichos eventos y los agrupe por alumno."
      ]
    },
    {
      "cell_type": "markdown",
      "metadata": {
        "id": "KbN-7uZlpD0P"
      },
      "source": [
        "Se tienen eventos del estudiante en el aula, la idea es agruparlos por estudiante y establecer un contador de ocurriencias por evento por recurso."
      ]
    },
    {
      "cell_type": "code",
      "metadata": {
        "colab": {
          "base_uri": "https://localhost:8080/",
          "height": 789
        },
        "id": "dN8bRM6apDmb",
        "outputId": "1840821a-d2d7-4a32-e17e-a29365749c12"
      },
      "source": [
        "\n",
        "dataset = pd.DataFrame(data=np.array(data['nombre completo del usuario']), columns = ['Name'])\n",
        "dataset.drop_duplicates(keep = \"first\", inplace = True)\n",
        "\n",
        "for index, row in data.iterrows():\n",
        "    name = row['nombre completo del usuario']\n",
        "    resource = row['contexto del evento']\n",
        "    event = row['nombre evento']\n",
        "    if pd.isnull(resource) or pd.isnull(event):\n",
        "      continue\n",
        "    log = resource + ' - ' + event\n",
        "    if not log in dataset:\n",
        "      dataset[log] = np.zeros(len(dataset.index))\n",
        "    i = (dataset.index[dataset['Name'] == name][0])\n",
        "    dataset.at[i, log] = dataset.at[i, log] + 1 \n",
        "dataset.info()\n",
        "dataset.head()"
      ],
      "execution_count": 68,
      "outputs": [
        {
          "output_type": "stream",
          "text": [
            "<class 'pandas.core.frame.DataFrame'>\n",
            "Int64Index: 528 entries, 0 to 84766\n",
            "Columns: 153 entries, Name to curso: teoria de sistemas en las organizaciones - (204016a_951) - grupo eliminado\n",
            "dtypes: float64(152), object(1)\n",
            "memory usage: 655.2+ KB\n"
          ],
          "name": "stdout"
        },
        {
          "output_type": "execute_result",
          "data": {
            "text/html": [
              "<div>\n",
              "<style scoped>\n",
              "    .dataframe tbody tr th:only-of-type {\n",
              "        vertical-align: middle;\n",
              "    }\n",
              "\n",
              "    .dataframe tbody tr th {\n",
              "        vertical-align: top;\n",
              "    }\n",
              "\n",
              "    .dataframe thead th {\n",
              "        text-align: right;\n",
              "    }\n",
              "</style>\n",
              "<table border=\"1\" class=\"dataframe\">\n",
              "  <thead>\n",
              "    <tr style=\"text-align: right;\">\n",
              "      <th></th>\n",
              "      <th>Name</th>\n",
              "      <th>curso: teoria de sistemas en las organizaciones - (204016a_951) - informe de registro visualizado</th>\n",
              "      <th>tarea: unidad 1 - fase 2 - identificacion y analisis - rubrica de evaluacion y entrega de la actividad - formulario de calificaciones visto</th>\n",
              "      <th>tarea: unidad 1 - fase 2 - identificacion y analisis - rubrica de evaluacion y entrega de la actividad - visualizacion de las calificaciones</th>\n",
              "      <th>curso: teoria de sistemas en las organizaciones - (204016a_951) - curso visto</th>\n",
              "      <th>tarea: unidad 1 - fase 2 - identificacion y analisis - rubrica de evaluacion y entrega de la actividad - se ha calificado el envio.</th>\n",
              "      <th>curso: teoria de sistemas en las organizaciones - (204016a_951) - usuario calificado</th>\n",
              "      <th>curso: teoria de sistemas en las organizaciones - (204016a_951) - informe de actividad visto</th>\n",
              "      <th>curso: teoria de sistemas en las organizaciones - (204016a_951) - informe de notas de usuario visto</th>\n",
              "      <th>tarea: unidad 1 - fase 2 - identificacion y analisis - rubrica de evaluacion y entrega de la actividad - se ha visualizado el estado de la entrega.</th>\n",
              "      <th>carpeta: guia de actividades y rubrica de evaluacion - unidad 1 - fase 2 - identificacion y analisis - modulo de curso visto</th>\n",
              "      <th>carpeta: guia de actividades y rubrica de evaluacion - unidad 2 - fase 3 - modelamiento - modulo de curso visto</th>\n",
              "      <th>foro: foro de discusion - unidad 2 - fase 3 - modelamiento - modulo de curso visto</th>\n",
              "      <th>foro: foro noticias del curso - tema visto</th>\n",
              "      <th>foro: foro noticias del curso - modulo de curso visto</th>\n",
              "      <th>pagina: encuentros sincronicos via webconferencia - modulo de curso visto</th>\n",
              "      <th>curso: teoria de sistemas en las organizaciones - (204016a_951) - informe usuario del curso visto</th>\n",
              "      <th>tarea: unidad 1 - fase 2 - identificacion y analisis - rubrica de evaluacion y entrega de la actividad - retroalimentacion vista</th>\n",
              "      <th>foro: foro de discusion - unidad 2 - fase 3 - modelamiento - tema visto</th>\n",
              "      <th>pagina: unidad 1 - conceptualizacion de la tso - contenidos y referentes bibliogràficos - modulo de curso visto</th>\n",
              "      <th>tarea: unidad 2 - fase 3 - modelamiento - rubrica de evaluacion y entrega de la actividad - se ha visualizado el estado de la entrega.</th>\n",
              "      <th>tarea: fase 4 - sustentacion final - rubrica de evaluacion y entrega de la actividad - se ha visualizado el estado de la entrega.</th>\n",
              "      <th>curso: teoria de sistemas en las organizaciones - (204016a_951) - perfil de usuario visto</th>\n",
              "      <th>curso: teoria de sistemas en las organizaciones - (204016a_951) - lista de usuarios vista</th>\n",
              "      <th>curso: teoria de sistemas en las organizaciones - (204016a_951) - informe del calificador visto</th>\n",
              "      <th>foro: foro general del curso - tema visto</th>\n",
              "      <th>foro: foro general del curso - modulo de curso visto</th>\n",
              "      <th>tarea: fase 1 - historia de la teoria de sistemas - rubrica de evaluacion y entrega de la actividad - se ha visualizado el estado de la entrega.</th>\n",
              "      <th>tarea: fase 1 - historia de la teoria de sistemas - rubrica de evaluacion y entrega de la actividad - retroalimentacion vista</th>\n",
              "      <th>pagina: agenda del curso teoria de sistemas en las organizaciones - modulo de curso visto</th>\n",
              "      <th>curso: teoria de sistemas en las organizaciones - (204016a_951) - informe de resumen de notas visto</th>\n",
              "      <th>curso: teoria de sistemas en las organizaciones - (204016a_951) - calificacion opendocument exportada</th>\n",
              "      <th>carpeta: guia de actividades y rubrica de evaluacion - unidad 2 - fase 3 - modelamiento - directorio descargado en formato zip</th>\n",
              "      <th>contenido interactivo: linea de tiempo cibernetica - modulo de curso visto</th>\n",
              "      <th>pagina: unidad 2 - aplicaciones de la tso - contenidos y referentes bibliograficos - modulo de curso visto</th>\n",
              "      <th>foro: foro de discusion - unidad 1 - fase 2 - identificacion y analisis - tema visto</th>\n",
              "      <th>foro: foro de discusion - unidad 1 - fase 2 - identificacion y analisis - modulo de curso visto</th>\n",
              "      <th>carpeta: guia de actividades y rubrica de evaluacion - unidad 1 - fase 2 - identificacion y analisis - directorio descargado en formato zip</th>\n",
              "      <th>carpeta: guia de actividades y rubrica de evaluacion - fase 1 - historia de la teoria de sistemas - directorio descargado en formato zip</th>\n",
              "      <th>carpeta: guia de actividades y rubrica de evaluacion - fase 1 - historia de la teoria de sistemas - modulo de curso visto</th>\n",
              "      <th>...</th>\n",
              "      <th>foro: foro red de curso - tema borrado</th>\n",
              "      <th>foro: foro red de curso - mensaje borrado</th>\n",
              "      <th>curso: teoria de sistemas en las organizaciones - (204016a_951) - copia de curso creada</th>\n",
              "      <th>foro: foro de discusion - fase 1 - historia de la teoria de sistemas - tema borrado</th>\n",
              "      <th>tarea: fase 4 - sustentacion final - rubrica de evaluacion y entrega de la actividad - modulo de curso actualizado</th>\n",
              "      <th>curso: teoria de sistemas en las organizaciones - (204016a_951) - evento de calendario actualizado</th>\n",
              "      <th>tarea: unidad 2 - fase 3 - modelamiento - rubrica de evaluacion y entrega de la actividad - modulo de curso actualizado</th>\n",
              "      <th>tarea: unidad 1 - fase 2 - identificacion y analisis - rubrica de evaluacion y entrega de la actividad - modulo de curso actualizado</th>\n",
              "      <th>tarea: fase 1 - historia de la teoria de sistemas - rubrica de evaluacion y entrega de la actividad - modulo de curso actualizado</th>\n",
              "      <th>foro: foro de discusion - fase 4 - sustentacion final - modulo de curso actualizado</th>\n",
              "      <th>carpeta: guia de actividades y rubrica de evaluacion - fase 4 - sustentacion final - modulo de curso actualizado</th>\n",
              "      <th>foro: foro de discusion - unidad 2 - fase 3 - modelamiento - modulo de curso actualizado</th>\n",
              "      <th>carpeta: guia de actividades y rubrica de evaluacion - unidad 2 - fase 3 - modelamiento - modulo de curso actualizado</th>\n",
              "      <th>curso: teoria de sistemas en las organizaciones - (204016a_951) - reinicio de curso finalizado</th>\n",
              "      <th>curso: teoria de sistemas en las organizaciones - (204016a_951) - reinicio de curso iniciado</th>\n",
              "      <th>foro: foro de discusion - fase 1 - historia de la teoria de sistemas - suscriptores visualizados</th>\n",
              "      <th>foro: foro noticias del curso - mensaje actualizado</th>\n",
              "      <th>foro: foro noticias del curso - tema creado</th>\n",
              "      <th>foro: foro general del curso - tema creado</th>\n",
              "      <th>foro: foro de discusion - unidad 1 - fase 2 - identificacion y analisis - modulo de curso actualizado</th>\n",
              "      <th>foro: foro de discusion - fase 1 - historia de la teoria de sistemas - modulo de curso actualizado</th>\n",
              "      <th>carpeta: guia de actividades y rubrica de evaluacion - fase 1 - historia de la teoria de sistemas - modulo de curso actualizado</th>\n",
              "      <th>carpeta: guia de actividades y rubrica de evaluacion - fase 4 - sustentacion final - carpeta actualizada</th>\n",
              "      <th>carpeta: guia de actividades y rubrica de evaluacion - unidad 2 - fase 3 - modelamiento - carpeta actualizada</th>\n",
              "      <th>carpeta: guia de actividades y rubrica de evaluacion - unidad 1 - fase 2 - identificacion y analisis - carpeta actualizada</th>\n",
              "      <th>carpeta: guia de actividades y rubrica de evaluacion - fase 1 - historia de la teoria de sistemas - carpeta actualizada</th>\n",
              "      <th>pagina: unidad 1 - conceptualizacion de la tso - contenidos y referentes bibliogràficos - modulo de curso actualizado</th>\n",
              "      <th>contenido interactivo: linea de tiempo cibernetica - modulo de curso actualizado</th>\n",
              "      <th>pagina: acompañamiento b-learning - in situ - modulo de curso actualizado</th>\n",
              "      <th>foro: foro red de curso - modulo de curso actualizado</th>\n",
              "      <th>foro: foro general del curso - modulo de curso actualizado</th>\n",
              "      <th>foro: foro noticias del curso - modulo de curso actualizado</th>\n",
              "      <th>consulta: normas y condiciones para el desarrollo del curso - modulo de curso actualizado</th>\n",
              "      <th>contenido interactivo: presentacion del curso teoria de sistemas en las organizaciones - modulo de curso actualizado</th>\n",
              "      <th>pagina: agenda del curso teoria de sistemas en las organizaciones - modulo de curso actualizado</th>\n",
              "      <th>curso: teoria de sistemas en las organizaciones - (204016a_951) - evento de calendario creado</th>\n",
              "      <th>curso: teoria de sistemas en las organizaciones - (204016a_951) - curso restaurado</th>\n",
              "      <th>curso: teoria de sistemas en las organizaciones - (204016a_951) - seccion del curso creada</th>\n",
              "      <th>curso: teoria de sistemas en las organizaciones - (204016a_951) - contenido del curso eliminado</th>\n",
              "      <th>curso: teoria de sistemas en las organizaciones - (204016a_951) - grupo eliminado</th>\n",
              "    </tr>\n",
              "  </thead>\n",
              "  <tbody>\n",
              "    <tr>\n",
              "      <th>0</th>\n",
              "      <td>maria consuelo  rodriguez</td>\n",
              "      <td>10.0</td>\n",
              "      <td>105.0</td>\n",
              "      <td>50.0</td>\n",
              "      <td>143.0</td>\n",
              "      <td>38.0</td>\n",
              "      <td>123.0</td>\n",
              "      <td>3.0</td>\n",
              "      <td>0.0</td>\n",
              "      <td>32.0</td>\n",
              "      <td>7.0</td>\n",
              "      <td>0.0</td>\n",
              "      <td>14.0</td>\n",
              "      <td>1.0</td>\n",
              "      <td>1.0</td>\n",
              "      <td>0.0</td>\n",
              "      <td>0.0</td>\n",
              "      <td>0.0</td>\n",
              "      <td>1.0</td>\n",
              "      <td>7.0</td>\n",
              "      <td>0.0</td>\n",
              "      <td>0.0</td>\n",
              "      <td>12.0</td>\n",
              "      <td>45.0</td>\n",
              "      <td>11.0</td>\n",
              "      <td>0.0</td>\n",
              "      <td>2.0</td>\n",
              "      <td>46.0</td>\n",
              "      <td>0.0</td>\n",
              "      <td>2.0</td>\n",
              "      <td>0.0</td>\n",
              "      <td>4.0</td>\n",
              "      <td>0.0</td>\n",
              "      <td>3.0</td>\n",
              "      <td>0.0</td>\n",
              "      <td>104.0</td>\n",
              "      <td>153.0</td>\n",
              "      <td>0.0</td>\n",
              "      <td>0.0</td>\n",
              "      <td>1.0</td>\n",
              "      <td>...</td>\n",
              "      <td>0.0</td>\n",
              "      <td>0.0</td>\n",
              "      <td>0.0</td>\n",
              "      <td>0.0</td>\n",
              "      <td>0.0</td>\n",
              "      <td>0.0</td>\n",
              "      <td>0.0</td>\n",
              "      <td>0.0</td>\n",
              "      <td>0.0</td>\n",
              "      <td>0.0</td>\n",
              "      <td>0.0</td>\n",
              "      <td>0.0</td>\n",
              "      <td>0.0</td>\n",
              "      <td>0.0</td>\n",
              "      <td>0.0</td>\n",
              "      <td>0.0</td>\n",
              "      <td>0.0</td>\n",
              "      <td>0.0</td>\n",
              "      <td>0.0</td>\n",
              "      <td>0.0</td>\n",
              "      <td>0.0</td>\n",
              "      <td>0.0</td>\n",
              "      <td>0.0</td>\n",
              "      <td>1.0</td>\n",
              "      <td>1.0</td>\n",
              "      <td>1.0</td>\n",
              "      <td>0.0</td>\n",
              "      <td>0.0</td>\n",
              "      <td>0.0</td>\n",
              "      <td>0.0</td>\n",
              "      <td>0.0</td>\n",
              "      <td>0.0</td>\n",
              "      <td>0.0</td>\n",
              "      <td>0.0</td>\n",
              "      <td>1.0</td>\n",
              "      <td>0.0</td>\n",
              "      <td>0.0</td>\n",
              "      <td>0.0</td>\n",
              "      <td>0.0</td>\n",
              "      <td>0.0</td>\n",
              "    </tr>\n",
              "    <tr>\n",
              "      <th>1</th>\n",
              "      <td>marco antonio  rodriguez</td>\n",
              "      <td>0.0</td>\n",
              "      <td>136.0</td>\n",
              "      <td>171.0</td>\n",
              "      <td>99.0</td>\n",
              "      <td>67.0</td>\n",
              "      <td>651.0</td>\n",
              "      <td>0.0</td>\n",
              "      <td>0.0</td>\n",
              "      <td>52.0</td>\n",
              "      <td>0.0</td>\n",
              "      <td>2.0</td>\n",
              "      <td>4.0</td>\n",
              "      <td>2.0</td>\n",
              "      <td>4.0</td>\n",
              "      <td>0.0</td>\n",
              "      <td>0.0</td>\n",
              "      <td>0.0</td>\n",
              "      <td>0.0</td>\n",
              "      <td>0.0</td>\n",
              "      <td>0.0</td>\n",
              "      <td>0.0</td>\n",
              "      <td>0.0</td>\n",
              "      <td>0.0</td>\n",
              "      <td>2.0</td>\n",
              "      <td>2.0</td>\n",
              "      <td>3.0</td>\n",
              "      <td>48.0</td>\n",
              "      <td>0.0</td>\n",
              "      <td>0.0</td>\n",
              "      <td>0.0</td>\n",
              "      <td>0.0</td>\n",
              "      <td>0.0</td>\n",
              "      <td>0.0</td>\n",
              "      <td>0.0</td>\n",
              "      <td>174.0</td>\n",
              "      <td>586.0</td>\n",
              "      <td>0.0</td>\n",
              "      <td>0.0</td>\n",
              "      <td>0.0</td>\n",
              "      <td>...</td>\n",
              "      <td>0.0</td>\n",
              "      <td>0.0</td>\n",
              "      <td>0.0</td>\n",
              "      <td>0.0</td>\n",
              "      <td>0.0</td>\n",
              "      <td>0.0</td>\n",
              "      <td>0.0</td>\n",
              "      <td>0.0</td>\n",
              "      <td>0.0</td>\n",
              "      <td>0.0</td>\n",
              "      <td>0.0</td>\n",
              "      <td>0.0</td>\n",
              "      <td>0.0</td>\n",
              "      <td>0.0</td>\n",
              "      <td>0.0</td>\n",
              "      <td>0.0</td>\n",
              "      <td>0.0</td>\n",
              "      <td>0.0</td>\n",
              "      <td>0.0</td>\n",
              "      <td>0.0</td>\n",
              "      <td>0.0</td>\n",
              "      <td>0.0</td>\n",
              "      <td>0.0</td>\n",
              "      <td>0.0</td>\n",
              "      <td>0.0</td>\n",
              "      <td>0.0</td>\n",
              "      <td>0.0</td>\n",
              "      <td>0.0</td>\n",
              "      <td>0.0</td>\n",
              "      <td>0.0</td>\n",
              "      <td>0.0</td>\n",
              "      <td>0.0</td>\n",
              "      <td>0.0</td>\n",
              "      <td>0.0</td>\n",
              "      <td>0.0</td>\n",
              "      <td>0.0</td>\n",
              "      <td>0.0</td>\n",
              "      <td>0.0</td>\n",
              "      <td>0.0</td>\n",
              "      <td>0.0</td>\n",
              "    </tr>\n",
              "    <tr>\n",
              "      <th>91</th>\n",
              "      <td>john stiven alzate tavera</td>\n",
              "      <td>0.0</td>\n",
              "      <td>0.0</td>\n",
              "      <td>0.0</td>\n",
              "      <td>9.0</td>\n",
              "      <td>0.0</td>\n",
              "      <td>0.0</td>\n",
              "      <td>0.0</td>\n",
              "      <td>3.0</td>\n",
              "      <td>2.0</td>\n",
              "      <td>0.0</td>\n",
              "      <td>0.0</td>\n",
              "      <td>0.0</td>\n",
              "      <td>0.0</td>\n",
              "      <td>0.0</td>\n",
              "      <td>0.0</td>\n",
              "      <td>0.0</td>\n",
              "      <td>0.0</td>\n",
              "      <td>0.0</td>\n",
              "      <td>1.0</td>\n",
              "      <td>0.0</td>\n",
              "      <td>0.0</td>\n",
              "      <td>0.0</td>\n",
              "      <td>0.0</td>\n",
              "      <td>0.0</td>\n",
              "      <td>0.0</td>\n",
              "      <td>0.0</td>\n",
              "      <td>1.0</td>\n",
              "      <td>1.0</td>\n",
              "      <td>0.0</td>\n",
              "      <td>0.0</td>\n",
              "      <td>0.0</td>\n",
              "      <td>0.0</td>\n",
              "      <td>1.0</td>\n",
              "      <td>0.0</td>\n",
              "      <td>6.0</td>\n",
              "      <td>2.0</td>\n",
              "      <td>0.0</td>\n",
              "      <td>0.0</td>\n",
              "      <td>0.0</td>\n",
              "      <td>...</td>\n",
              "      <td>0.0</td>\n",
              "      <td>0.0</td>\n",
              "      <td>0.0</td>\n",
              "      <td>0.0</td>\n",
              "      <td>0.0</td>\n",
              "      <td>0.0</td>\n",
              "      <td>0.0</td>\n",
              "      <td>0.0</td>\n",
              "      <td>0.0</td>\n",
              "      <td>0.0</td>\n",
              "      <td>0.0</td>\n",
              "      <td>0.0</td>\n",
              "      <td>0.0</td>\n",
              "      <td>0.0</td>\n",
              "      <td>0.0</td>\n",
              "      <td>0.0</td>\n",
              "      <td>0.0</td>\n",
              "      <td>0.0</td>\n",
              "      <td>0.0</td>\n",
              "      <td>0.0</td>\n",
              "      <td>0.0</td>\n",
              "      <td>0.0</td>\n",
              "      <td>0.0</td>\n",
              "      <td>0.0</td>\n",
              "      <td>0.0</td>\n",
              "      <td>0.0</td>\n",
              "      <td>0.0</td>\n",
              "      <td>0.0</td>\n",
              "      <td>0.0</td>\n",
              "      <td>0.0</td>\n",
              "      <td>0.0</td>\n",
              "      <td>0.0</td>\n",
              "      <td>0.0</td>\n",
              "      <td>0.0</td>\n",
              "      <td>0.0</td>\n",
              "      <td>0.0</td>\n",
              "      <td>0.0</td>\n",
              "      <td>0.0</td>\n",
              "      <td>0.0</td>\n",
              "      <td>0.0</td>\n",
              "    </tr>\n",
              "    <tr>\n",
              "      <th>108</th>\n",
              "      <td>leonardo andres  hernandez</td>\n",
              "      <td>0.0</td>\n",
              "      <td>0.0</td>\n",
              "      <td>0.0</td>\n",
              "      <td>18.0</td>\n",
              "      <td>0.0</td>\n",
              "      <td>0.0</td>\n",
              "      <td>0.0</td>\n",
              "      <td>0.0</td>\n",
              "      <td>3.0</td>\n",
              "      <td>1.0</td>\n",
              "      <td>0.0</td>\n",
              "      <td>1.0</td>\n",
              "      <td>0.0</td>\n",
              "      <td>0.0</td>\n",
              "      <td>0.0</td>\n",
              "      <td>0.0</td>\n",
              "      <td>0.0</td>\n",
              "      <td>1.0</td>\n",
              "      <td>0.0</td>\n",
              "      <td>0.0</td>\n",
              "      <td>0.0</td>\n",
              "      <td>1.0</td>\n",
              "      <td>0.0</td>\n",
              "      <td>0.0</td>\n",
              "      <td>0.0</td>\n",
              "      <td>0.0</td>\n",
              "      <td>1.0</td>\n",
              "      <td>1.0</td>\n",
              "      <td>0.0</td>\n",
              "      <td>0.0</td>\n",
              "      <td>0.0</td>\n",
              "      <td>0.0</td>\n",
              "      <td>0.0</td>\n",
              "      <td>0.0</td>\n",
              "      <td>10.0</td>\n",
              "      <td>8.0</td>\n",
              "      <td>0.0</td>\n",
              "      <td>0.0</td>\n",
              "      <td>0.0</td>\n",
              "      <td>...</td>\n",
              "      <td>0.0</td>\n",
              "      <td>0.0</td>\n",
              "      <td>0.0</td>\n",
              "      <td>0.0</td>\n",
              "      <td>0.0</td>\n",
              "      <td>0.0</td>\n",
              "      <td>0.0</td>\n",
              "      <td>0.0</td>\n",
              "      <td>0.0</td>\n",
              "      <td>0.0</td>\n",
              "      <td>0.0</td>\n",
              "      <td>0.0</td>\n",
              "      <td>0.0</td>\n",
              "      <td>0.0</td>\n",
              "      <td>0.0</td>\n",
              "      <td>0.0</td>\n",
              "      <td>0.0</td>\n",
              "      <td>0.0</td>\n",
              "      <td>0.0</td>\n",
              "      <td>0.0</td>\n",
              "      <td>0.0</td>\n",
              "      <td>0.0</td>\n",
              "      <td>0.0</td>\n",
              "      <td>0.0</td>\n",
              "      <td>0.0</td>\n",
              "      <td>0.0</td>\n",
              "      <td>0.0</td>\n",
              "      <td>0.0</td>\n",
              "      <td>0.0</td>\n",
              "      <td>0.0</td>\n",
              "      <td>0.0</td>\n",
              "      <td>0.0</td>\n",
              "      <td>0.0</td>\n",
              "      <td>0.0</td>\n",
              "      <td>0.0</td>\n",
              "      <td>0.0</td>\n",
              "      <td>0.0</td>\n",
              "      <td>0.0</td>\n",
              "      <td>0.0</td>\n",
              "      <td>0.0</td>\n",
              "    </tr>\n",
              "    <tr>\n",
              "      <th>109</th>\n",
              "      <td>jhonatan  molina muñoz</td>\n",
              "      <td>0.0</td>\n",
              "      <td>0.0</td>\n",
              "      <td>0.0</td>\n",
              "      <td>42.0</td>\n",
              "      <td>0.0</td>\n",
              "      <td>0.0</td>\n",
              "      <td>0.0</td>\n",
              "      <td>0.0</td>\n",
              "      <td>6.0</td>\n",
              "      <td>5.0</td>\n",
              "      <td>2.0</td>\n",
              "      <td>0.0</td>\n",
              "      <td>0.0</td>\n",
              "      <td>0.0</td>\n",
              "      <td>0.0</td>\n",
              "      <td>0.0</td>\n",
              "      <td>0.0</td>\n",
              "      <td>0.0</td>\n",
              "      <td>7.0</td>\n",
              "      <td>0.0</td>\n",
              "      <td>0.0</td>\n",
              "      <td>2.0</td>\n",
              "      <td>3.0</td>\n",
              "      <td>0.0</td>\n",
              "      <td>0.0</td>\n",
              "      <td>0.0</td>\n",
              "      <td>0.0</td>\n",
              "      <td>0.0</td>\n",
              "      <td>1.0</td>\n",
              "      <td>0.0</td>\n",
              "      <td>0.0</td>\n",
              "      <td>0.0</td>\n",
              "      <td>2.0</td>\n",
              "      <td>0.0</td>\n",
              "      <td>12.0</td>\n",
              "      <td>12.0</td>\n",
              "      <td>0.0</td>\n",
              "      <td>0.0</td>\n",
              "      <td>0.0</td>\n",
              "      <td>...</td>\n",
              "      <td>0.0</td>\n",
              "      <td>0.0</td>\n",
              "      <td>0.0</td>\n",
              "      <td>0.0</td>\n",
              "      <td>0.0</td>\n",
              "      <td>0.0</td>\n",
              "      <td>0.0</td>\n",
              "      <td>0.0</td>\n",
              "      <td>0.0</td>\n",
              "      <td>0.0</td>\n",
              "      <td>0.0</td>\n",
              "      <td>0.0</td>\n",
              "      <td>0.0</td>\n",
              "      <td>0.0</td>\n",
              "      <td>0.0</td>\n",
              "      <td>0.0</td>\n",
              "      <td>0.0</td>\n",
              "      <td>0.0</td>\n",
              "      <td>0.0</td>\n",
              "      <td>0.0</td>\n",
              "      <td>0.0</td>\n",
              "      <td>0.0</td>\n",
              "      <td>0.0</td>\n",
              "      <td>0.0</td>\n",
              "      <td>0.0</td>\n",
              "      <td>0.0</td>\n",
              "      <td>0.0</td>\n",
              "      <td>0.0</td>\n",
              "      <td>0.0</td>\n",
              "      <td>0.0</td>\n",
              "      <td>0.0</td>\n",
              "      <td>0.0</td>\n",
              "      <td>0.0</td>\n",
              "      <td>0.0</td>\n",
              "      <td>0.0</td>\n",
              "      <td>0.0</td>\n",
              "      <td>0.0</td>\n",
              "      <td>0.0</td>\n",
              "      <td>0.0</td>\n",
              "      <td>0.0</td>\n",
              "    </tr>\n",
              "  </tbody>\n",
              "</table>\n",
              "<p>5 rows × 153 columns</p>\n",
              "</div>"
            ],
            "text/plain": [
              "                            Name  ...  curso: teoria de sistemas en las organizaciones - (204016a_951) - grupo eliminado\n",
              "0     maria consuelo  rodriguez   ...                                                0.0                                \n",
              "1      marco antonio  rodriguez   ...                                                0.0                                \n",
              "91     john stiven alzate tavera  ...                                                0.0                                \n",
              "108  leonardo andres  hernandez   ...                                                0.0                                \n",
              "109       jhonatan  molina muñoz  ...                                                0.0                                \n",
              "\n",
              "[5 rows x 153 columns]"
            ]
          },
          "metadata": {
            "tags": []
          },
          "execution_count": 68
        }
      ]
    },
    {
      "cell_type": "markdown",
      "metadata": {
        "id": "u9povD4MKSTP"
      },
      "source": [
        "Ahora bien del archivo de calificaciones:\n",
        "\n",
        "Nombre\n",
        "Nombre del estudiante\n",
        "Texto\n",
        "\n",
        "Apellido(s)\n",
        "Apellidos del estudiante\n",
        "Texto\n",
        "\n",
        "Número de ID\n",
        "Cédula o tarjeta de identidad\n",
        "Número\n",
        "\n",
        "Institución\n",
        "Nombre de la institución\n",
        "Texto(vacío)\n",
        "\n",
        "Departamento\n",
        "Nombre del departamento\n",
        "Texto(vacío)\n",
        "\n",
        "Dirección de correo\n",
        "Correo electrónico del estudiante\n",
        "Texto formato email\n",
        "\n",
        "Grupo\n",
        "Grupo de la asignatura\n",
        "Texto formato Código Materia Grupo\n",
        "Ejemplo: 204016_33\n",
        "\n",
        "Tarea:Fase 1 - Historia de la Teoría de sistemas - Rúbrica de evaluación y entrega de la actividad (Real)\n",
        "Calificación del Trabajo #1\n",
        "Número (0 a 25)\n",
        "\n",
        "Tarea:Unidad 1 - Fase 2 - Identificación y análisis - Rúbrica de evaluación y entrega de la actividad (Real)\n",
        "Calificación del Trabajo #1\n",
        "Número (0 a 175)\n",
        "\n",
        "Tarea:Unidad 2 - Fase 3 - Modelamiento - Rúbrica de evaluación y entrega de la actividad (Real)\n",
        "Calificación del Trabajo #1\n",
        "Número (0 a 175)\n",
        "\n",
        "Total Categoría 75% (Real)\n",
        "Calificación de agrupamiento de notas #1\n",
        "Número (0 a 300)\n",
        "\n",
        "Tarea:Fase 4 - Sustentación Final - Rúbrica de evaluación y entrega de la actividad (Real)\n",
        "Calificación del Trabajo #1\n",
        "Número (0 a 100)\n",
        "\n",
        "Total Categoría 25% (Real)\n",
        "Calificación de agrupamiento de notas #2\n",
        "Número (0 a 125)\n",
        "\n",
        "Total del curso (Real)\n",
        "Calificación final del curso\n",
        "Número (0 a 500)\n",
        "\n",
        "Última descarga de este curso\n",
        "Fecha de la última descarga del archivo\n",
        "Número\n",
        "Ejemplo: 1613854430\n",
        "\n",
        "\n",
        "\n",
        "Se toman los campos de nombre y apellidos y se calcula la calificación final para un estudiante teniendo en cuenta las notas actuales.\n",
        "Se toma como base el siguiente archivo.\n"
      ]
    },
    {
      "cell_type": "code",
      "metadata": {
        "colab": {
          "base_uri": "https://localhost:8080/",
          "height": 202
        },
        "id": "r5FNyfbNLNTX",
        "outputId": "38a4ee12-1eb9-4214-abee-1aa43867e6e6"
      },
      "source": [
        "califications = pd.read_csv('https://raw.githubusercontent.com/alexander-castro/test/main/calificaciones.csv')\n",
        "\n",
        "\n",
        "\n",
        "calificationsDF = pd.DataFrame(data=np.array(califications['Nombre'] + \" \" + califications['Apellido(s)']), columns = ['Name'])\n",
        "calificationsDF['Name'] = calificationsDF['Name'].str.lower()\n",
        "calificationsDF.head()\n",
        "\n",
        "#for index, row in data.iterrows():\n",
        "#    name = row['nombre completo del usuario']\n"
      ],
      "execution_count": 78,
      "outputs": [
        {
          "output_type": "execute_result",
          "data": {
            "text/html": [
              "<div>\n",
              "<style scoped>\n",
              "    .dataframe tbody tr th:only-of-type {\n",
              "        vertical-align: middle;\n",
              "    }\n",
              "\n",
              "    .dataframe tbody tr th {\n",
              "        vertical-align: top;\n",
              "    }\n",
              "\n",
              "    .dataframe thead th {\n",
              "        text-align: right;\n",
              "    }\n",
              "</style>\n",
              "<table border=\"1\" class=\"dataframe\">\n",
              "  <thead>\n",
              "    <tr style=\"text-align: right;\">\n",
              "      <th></th>\n",
              "      <th>Name</th>\n",
              "    </tr>\n",
              "  </thead>\n",
              "  <tbody>\n",
              "    <tr>\n",
              "      <th>0</th>\n",
              "      <td>nissy yiretabril</td>\n",
              "    </tr>\n",
              "    <tr>\n",
              "      <th>1</th>\n",
              "      <td>angie tatianaacevedo</td>\n",
              "    </tr>\n",
              "    <tr>\n",
              "      <th>2</th>\n",
              "      <td>jaribacosta</td>\n",
              "    </tr>\n",
              "    <tr>\n",
              "      <th>3</th>\n",
              "      <td>javier giovannyacosta</td>\n",
              "    </tr>\n",
              "    <tr>\n",
              "      <th>4</th>\n",
              "      <td>fabio andresaguirre</td>\n",
              "    </tr>\n",
              "  </tbody>\n",
              "</table>\n",
              "</div>"
            ],
            "text/plain": [
              "                    Name\n",
              "0       nissy yiretabril\n",
              "1   angie tatianaacevedo\n",
              "2            jaribacosta\n",
              "3  javier giovannyacosta\n",
              "4    fabio andresaguirre"
            ]
          },
          "metadata": {
            "tags": []
          },
          "execution_count": 78
        }
      ]
    },
    {
      "cell_type": "code",
      "metadata": {
        "colab": {
          "base_uri": "https://localhost:8080/",
          "height": 311
        },
        "id": "ykUy8s2c_--0",
        "outputId": "9234190a-c556-4a14-a6f9-48f83c3b0682"
      },
      "source": [
        "ProfileReport(data)"
      ],
      "execution_count": null,
      "outputs": [
        {
          "output_type": "error",
          "ename": "TypeError",
          "evalue": "ignored",
          "traceback": [
            "\u001b[0;31m---------------------------------------------------------------------------\u001b[0m",
            "\u001b[0;31mTypeError\u001b[0m                                 Traceback (most recent call last)",
            "\u001b[0;32m<ipython-input-4-fb7fea27b79b>\u001b[0m in \u001b[0;36m<module>\u001b[0;34m()\u001b[0m\n\u001b[0;32m----> 1\u001b[0;31m \u001b[0mProfileReport\u001b[0m\u001b[0;34m(\u001b[0m\u001b[0mdata\u001b[0m\u001b[0;34m)\u001b[0m\u001b[0;34m\u001b[0m\u001b[0;34m\u001b[0m\u001b[0m\n\u001b[0m",
            "\u001b[0;32m/usr/local/lib/python3.7/dist-packages/pandas_profiling/__init__.py\u001b[0m in \u001b[0;36m__init__\u001b[0;34m(self, df, **kwargs)\u001b[0m\n\u001b[1;32m     64\u001b[0m         \u001b[0msample\u001b[0m \u001b[0;34m=\u001b[0m \u001b[0mkwargs\u001b[0m\u001b[0;34m.\u001b[0m\u001b[0mget\u001b[0m\u001b[0;34m(\u001b[0m\u001b[0;34m'sample'\u001b[0m\u001b[0;34m,\u001b[0m \u001b[0mdf\u001b[0m\u001b[0;34m.\u001b[0m\u001b[0mhead\u001b[0m\u001b[0;34m(\u001b[0m\u001b[0;34m)\u001b[0m\u001b[0;34m)\u001b[0m\u001b[0;34m\u001b[0m\u001b[0;34m\u001b[0m\u001b[0m\n\u001b[1;32m     65\u001b[0m \u001b[0;34m\u001b[0m\u001b[0m\n\u001b[0;32m---> 66\u001b[0;31m         \u001b[0mdescription_set\u001b[0m \u001b[0;34m=\u001b[0m \u001b[0mdescribe\u001b[0m\u001b[0;34m(\u001b[0m\u001b[0mdf\u001b[0m\u001b[0;34m,\u001b[0m \u001b[0;34m**\u001b[0m\u001b[0mkwargs\u001b[0m\u001b[0;34m)\u001b[0m\u001b[0;34m\u001b[0m\u001b[0;34m\u001b[0m\u001b[0m\n\u001b[0m\u001b[1;32m     67\u001b[0m \u001b[0;34m\u001b[0m\u001b[0m\n\u001b[1;32m     68\u001b[0m         self.html = to_html(sample,\n",
            "\u001b[0;32m/usr/local/lib/python3.7/dist-packages/pandas_profiling/describe.py\u001b[0m in \u001b[0;36mdescribe\u001b[0;34m(df, bins, check_correlation, correlation_threshold, correlation_overrides, check_recoded, pool_size, **kwargs)\u001b[0m\n\u001b[1;32m    390\u001b[0m             \u001b[0;32mif\u001b[0m \u001b[0mname\u001b[0m \u001b[0;32mnot\u001b[0m \u001b[0;32min\u001b[0m \u001b[0mnames\u001b[0m\u001b[0;34m:\u001b[0m\u001b[0;34m\u001b[0m\u001b[0;34m\u001b[0m\u001b[0m\n\u001b[1;32m    391\u001b[0m                 \u001b[0mnames\u001b[0m\u001b[0;34m.\u001b[0m\u001b[0mappend\u001b[0m\u001b[0;34m(\u001b[0m\u001b[0mname\u001b[0m\u001b[0;34m)\u001b[0m\u001b[0;34m\u001b[0m\u001b[0;34m\u001b[0m\u001b[0m\n\u001b[0;32m--> 392\u001b[0;31m     \u001b[0mvariable_stats\u001b[0m \u001b[0;34m=\u001b[0m \u001b[0mpd\u001b[0m\u001b[0;34m.\u001b[0m\u001b[0mconcat\u001b[0m\u001b[0;34m(\u001b[0m\u001b[0mldesc\u001b[0m\u001b[0;34m,\u001b[0m \u001b[0mjoin_axes\u001b[0m\u001b[0;34m=\u001b[0m\u001b[0mpd\u001b[0m\u001b[0;34m.\u001b[0m\u001b[0mIndex\u001b[0m\u001b[0;34m(\u001b[0m\u001b[0;34m[\u001b[0m\u001b[0mnames\u001b[0m\u001b[0;34m]\u001b[0m\u001b[0;34m)\u001b[0m\u001b[0;34m,\u001b[0m \u001b[0maxis\u001b[0m\u001b[0;34m=\u001b[0m\u001b[0;36m1\u001b[0m\u001b[0;34m)\u001b[0m\u001b[0;34m\u001b[0m\u001b[0;34m\u001b[0m\u001b[0m\n\u001b[0m\u001b[1;32m    393\u001b[0m     \u001b[0mvariable_stats\u001b[0m\u001b[0;34m.\u001b[0m\u001b[0mcolumns\u001b[0m\u001b[0;34m.\u001b[0m\u001b[0mnames\u001b[0m \u001b[0;34m=\u001b[0m \u001b[0mdf\u001b[0m\u001b[0;34m.\u001b[0m\u001b[0mcolumns\u001b[0m\u001b[0;34m.\u001b[0m\u001b[0mnames\u001b[0m\u001b[0;34m\u001b[0m\u001b[0;34m\u001b[0m\u001b[0m\n\u001b[1;32m    394\u001b[0m \u001b[0;34m\u001b[0m\u001b[0m\n",
            "\u001b[0;31mTypeError\u001b[0m: concat() got an unexpected keyword argument 'join_axes'"
          ]
        }
      ]
    },
    {
      "cell_type": "markdown",
      "metadata": {
        "id": "cMgcXQyU_--7"
      },
      "source": [
        "### **3. Preparación de datos**"
      ]
    },
    {
      "cell_type": "markdown",
      "metadata": {
        "id": "8cZ2RllJnXjr"
      },
      "source": [
        "Como medida importante, sabemos que hay faltantes en estos datos, lo más recomendable es preguntar al negocio como tratar estos datos. Paar este caso se rellenarán con el valor de cero. Además, se revisará las correlaciones de los datos."
      ]
    },
    {
      "cell_type": "code",
      "metadata": {
        "colab": {
          "base_uri": "https://localhost:8080/",
          "height": 269
        },
        "id": "eljrVofQngj8",
        "outputId": "836b24e6-6537-4fd5-88b5-48f1cdddc9a8"
      },
      "source": [
        "data = data.fillna(data.mean())\n",
        "\n",
        "sns.heatmap(data.corr(),cmap='YlGnBu');"
      ],
      "execution_count": null,
      "outputs": [
        {
          "output_type": "display_data",
          "data": {
            "image/png": "[encoded data removed]",
            "text/plain": [
              "<Figure size 432x288 with 2 Axes>"
            ]
          },
          "metadata": {
            "tags": [],
            "needs_background": "light"
          }
        }
      ]
    },
    {
      "cell_type": "markdown",
      "metadata": {
        "id": "nvpZ1WVW_--7"
      },
      "source": [
        "Es importante saber como se comportan los datos, y así mismo saber que algortimo se utilizará para poder reprocesar los datos. Por ejemplo, si vamos a utilizar Regresión Lineal, necesitamos que todos los datos sean numéricos."
      ]
    },
    {
      "cell_type": "code",
      "metadata": {
        "colab": {
          "base_uri": "https://localhost:8080/",
          "height": 258
        },
        "id": "ULkyYxu0i2Xe",
        "outputId": "9956a9cb-7154-4224-bda6-f87609699cdf"
      },
      "source": [
        "data = pd.get_dummies(data)\n",
        "print(data.shape)\n",
        "data.head()"
      ],
      "execution_count": null,
      "outputs": [
        {
          "output_type": "stream",
          "text": [
            "(4345, 23)\n"
          ],
          "name": "stdout"
        },
        {
          "output_type": "execute_result",
          "data": {
            "text/html": [
              "<div>\n",
              "<style scoped>\n",
              "    .dataframe tbody tr th:only-of-type {\n",
              "        vertical-align: middle;\n",
              "    }\n",
              "\n",
              "    .dataframe tbody tr th {\n",
              "        vertical-align: top;\n",
              "    }\n",
              "\n",
              "    .dataframe thead th {\n",
              "        text-align: right;\n",
              "    }\n",
              "</style>\n",
              "<table border=\"1\" class=\"dataframe\">\n",
              "  <thead>\n",
              "    <tr style=\"text-align: right;\">\n",
              "      <th></th>\n",
              "      <th>Price</th>\n",
              "      <th>Mileage</th>\n",
              "      <th>EngineV</th>\n",
              "      <th>Year</th>\n",
              "      <th>Brand_Audi</th>\n",
              "      <th>Brand_BMW</th>\n",
              "      <th>Brand_Mercedes-Benz</th>\n",
              "      <th>Brand_Mitsubishi</th>\n",
              "      <th>Brand_Renault</th>\n",
              "      <th>Brand_Toyota</th>\n",
              "      <th>Brand_Volkswagen</th>\n",
              "      <th>Body_crossover</th>\n",
              "      <th>Body_hatch</th>\n",
              "      <th>Body_other</th>\n",
              "      <th>Body_sedan</th>\n",
              "      <th>Body_vagon</th>\n",
              "      <th>Body_van</th>\n",
              "      <th>Engine Type_Diesel</th>\n",
              "      <th>Engine Type_Gas</th>\n",
              "      <th>Engine Type_Other</th>\n",
              "      <th>Engine Type_Petrol</th>\n",
              "      <th>Registration_no</th>\n",
              "      <th>Registration_yes</th>\n",
              "    </tr>\n",
              "  </thead>\n",
              "  <tbody>\n",
              "    <tr>\n",
              "      <th>0</th>\n",
              "      <td>4200.0</td>\n",
              "      <td>277</td>\n",
              "      <td>2.0</td>\n",
              "      <td>1991</td>\n",
              "      <td>0</td>\n",
              "      <td>1</td>\n",
              "      <td>0</td>\n",
              "      <td>0</td>\n",
              "      <td>0</td>\n",
              "      <td>0</td>\n",
              "      <td>0</td>\n",
              "      <td>0</td>\n",
              "      <td>0</td>\n",
              "      <td>0</td>\n",
              "      <td>1</td>\n",
              "      <td>0</td>\n",
              "      <td>0</td>\n",
              "      <td>0</td>\n",
              "      <td>0</td>\n",
              "      <td>0</td>\n",
              "      <td>1</td>\n",
              "      <td>0</td>\n",
              "      <td>1</td>\n",
              "    </tr>\n",
              "    <tr>\n",
              "      <th>1</th>\n",
              "      <td>7900.0</td>\n",
              "      <td>427</td>\n",
              "      <td>2.9</td>\n",
              "      <td>1999</td>\n",
              "      <td>0</td>\n",
              "      <td>0</td>\n",
              "      <td>1</td>\n",
              "      <td>0</td>\n",
              "      <td>0</td>\n",
              "      <td>0</td>\n",
              "      <td>0</td>\n",
              "      <td>0</td>\n",
              "      <td>0</td>\n",
              "      <td>0</td>\n",
              "      <td>0</td>\n",
              "      <td>0</td>\n",
              "      <td>1</td>\n",
              "      <td>1</td>\n",
              "      <td>0</td>\n",
              "      <td>0</td>\n",
              "      <td>0</td>\n",
              "      <td>0</td>\n",
              "      <td>1</td>\n",
              "    </tr>\n",
              "    <tr>\n",
              "      <th>2</th>\n",
              "      <td>13300.0</td>\n",
              "      <td>358</td>\n",
              "      <td>5.0</td>\n",
              "      <td>2003</td>\n",
              "      <td>0</td>\n",
              "      <td>0</td>\n",
              "      <td>1</td>\n",
              "      <td>0</td>\n",
              "      <td>0</td>\n",
              "      <td>0</td>\n",
              "      <td>0</td>\n",
              "      <td>0</td>\n",
              "      <td>0</td>\n",
              "      <td>0</td>\n",
              "      <td>1</td>\n",
              "      <td>0</td>\n",
              "      <td>0</td>\n",
              "      <td>0</td>\n",
              "      <td>1</td>\n",
              "      <td>0</td>\n",
              "      <td>0</td>\n",
              "      <td>0</td>\n",
              "      <td>1</td>\n",
              "    </tr>\n",
              "    <tr>\n",
              "      <th>3</th>\n",
              "      <td>23000.0</td>\n",
              "      <td>240</td>\n",
              "      <td>4.2</td>\n",
              "      <td>2007</td>\n",
              "      <td>1</td>\n",
              "      <td>0</td>\n",
              "      <td>0</td>\n",
              "      <td>0</td>\n",
              "      <td>0</td>\n",
              "      <td>0</td>\n",
              "      <td>0</td>\n",
              "      <td>1</td>\n",
              "      <td>0</td>\n",
              "      <td>0</td>\n",
              "      <td>0</td>\n",
              "      <td>0</td>\n",
              "      <td>0</td>\n",
              "      <td>0</td>\n",
              "      <td>0</td>\n",
              "      <td>0</td>\n",
              "      <td>1</td>\n",
              "      <td>0</td>\n",
              "      <td>1</td>\n",
              "    </tr>\n",
              "    <tr>\n",
              "      <th>4</th>\n",
              "      <td>18300.0</td>\n",
              "      <td>120</td>\n",
              "      <td>2.0</td>\n",
              "      <td>2011</td>\n",
              "      <td>0</td>\n",
              "      <td>0</td>\n",
              "      <td>0</td>\n",
              "      <td>0</td>\n",
              "      <td>0</td>\n",
              "      <td>1</td>\n",
              "      <td>0</td>\n",
              "      <td>1</td>\n",
              "      <td>0</td>\n",
              "      <td>0</td>\n",
              "      <td>0</td>\n",
              "      <td>0</td>\n",
              "      <td>0</td>\n",
              "      <td>0</td>\n",
              "      <td>0</td>\n",
              "      <td>0</td>\n",
              "      <td>1</td>\n",
              "      <td>0</td>\n",
              "      <td>1</td>\n",
              "    </tr>\n",
              "  </tbody>\n",
              "</table>\n",
              "</div>"
            ],
            "text/plain": [
              "     Price  Mileage  ...  Registration_no  Registration_yes\n",
              "0   4200.0      277  ...                0                 1\n",
              "1   7900.0      427  ...                0                 1\n",
              "2  13300.0      358  ...                0                 1\n",
              "3  23000.0      240  ...                0                 1\n",
              "4  18300.0      120  ...                0                 1\n",
              "\n",
              "[5 rows x 23 columns]"
            ]
          },
          "metadata": {
            "tags": []
          },
          "execution_count": 7
        }
      ]
    },
    {
      "cell_type": "markdown",
      "metadata": {
        "id": "DDMjC6u_i-sL"
      },
      "source": [
        "Para todos los algoritmos de clasificación y regresión, necesitamos identificar nuestras variables explicativas y nuestra variable objetivo. Para eso separamos nuestro dataset.\n",
        "\n",
        "Además, para evaluar el rendimiento de nuestro sistema, necesitaremos separar nuestros datos de entrenamiento, con los datos de test."
      ]
    },
    {
      "cell_type": "code",
      "metadata": {
        "colab": {
          "base_uri": "https://localhost:8080/",
          "height": 564
        },
        "id": "Aj8qf4lcjelu",
        "outputId": "d6b6af67-45a2-42ad-ca57-bb9eb6942e49"
      },
      "source": [
        "X = data.drop(['Price'], axis=1)\n",
        "Y = data['Price']\n",
        "display(X.head())\n",
        "\n",
        "X_train, X_test, Y_train, Y_test = train_test_split(X,Y, random_state = 20, test_size=0.2)\n",
        "print(X_train.shape)\n",
        "display(X_train.head())\n",
        "display(Y_train.head())"
      ],
      "execution_count": null,
      "outputs": [
        {
          "output_type": "display_data",
          "data": {
            "text/html": [
              "<div>\n",
              "<style scoped>\n",
              "    .dataframe tbody tr th:only-of-type {\n",
              "        vertical-align: middle;\n",
              "    }\n",
              "\n",
              "    .dataframe tbody tr th {\n",
              "        vertical-align: top;\n",
              "    }\n",
              "\n",
              "    .dataframe thead th {\n",
              "        text-align: right;\n",
              "    }\n",
              "</style>\n",
              "<table border=\"1\" class=\"dataframe\">\n",
              "  <thead>\n",
              "    <tr style=\"text-align: right;\">\n",
              "      <th></th>\n",
              "      <th>Mileage</th>\n",
              "      <th>EngineV</th>\n",
              "      <th>Year</th>\n",
              "      <th>Brand_Audi</th>\n",
              "      <th>Brand_BMW</th>\n",
              "      <th>Brand_Mercedes-Benz</th>\n",
              "      <th>Brand_Mitsubishi</th>\n",
              "      <th>Brand_Renault</th>\n",
              "      <th>Brand_Toyota</th>\n",
              "      <th>Brand_Volkswagen</th>\n",
              "      <th>Body_crossover</th>\n",
              "      <th>Body_hatch</th>\n",
              "      <th>Body_other</th>\n",
              "      <th>Body_sedan</th>\n",
              "      <th>Body_vagon</th>\n",
              "      <th>Body_van</th>\n",
              "      <th>Engine Type_Diesel</th>\n",
              "      <th>Engine Type_Gas</th>\n",
              "      <th>Engine Type_Other</th>\n",
              "      <th>Engine Type_Petrol</th>\n",
              "      <th>Registration_no</th>\n",
              "      <th>Registration_yes</th>\n",
              "    </tr>\n",
              "  </thead>\n",
              "  <tbody>\n",
              "    <tr>\n",
              "      <th>0</th>\n",
              "      <td>277</td>\n",
              "      <td>2.0</td>\n",
              "      <td>1991</td>\n",
              "      <td>0</td>\n",
              "      <td>1</td>\n",
              "      <td>0</td>\n",
              "      <td>0</td>\n",
              "      <td>0</td>\n",
              "      <td>0</td>\n",
              "      <td>0</td>\n",
              "      <td>0</td>\n",
              "      <td>0</td>\n",
              "      <td>0</td>\n",
              "      <td>1</td>\n",
              "      <td>0</td>\n",
              "      <td>0</td>\n",
              "      <td>0</td>\n",
              "      <td>0</td>\n",
              "      <td>0</td>\n",
              "      <td>1</td>\n",
              "      <td>0</td>\n",
              "      <td>1</td>\n",
              "    </tr>\n",
              "    <tr>\n",
              "      <th>1</th>\n",
              "      <td>427</td>\n",
              "      <td>2.9</td>\n",
              "      <td>1999</td>\n",
              "      <td>0</td>\n",
              "      <td>0</td>\n",
              "      <td>1</td>\n",
              "      <td>0</td>\n",
              "      <td>0</td>\n",
              "      <td>0</td>\n",
              "      <td>0</td>\n",
              "      <td>0</td>\n",
              "      <td>0</td>\n",
              "      <td>0</td>\n",
              "      <td>0</td>\n",
              "      <td>0</td>\n",
              "      <td>1</td>\n",
              "      <td>1</td>\n",
              "      <td>0</td>\n",
              "      <td>0</td>\n",
              "      <td>0</td>\n",
              "      <td>0</td>\n",
              "      <td>1</td>\n",
              "    </tr>\n",
              "    <tr>\n",
              "      <th>2</th>\n",
              "      <td>358</td>\n",
              "      <td>5.0</td>\n",
              "      <td>2003</td>\n",
              "      <td>0</td>\n",
              "      <td>0</td>\n",
              "      <td>1</td>\n",
              "      <td>0</td>\n",
              "      <td>0</td>\n",
              "      <td>0</td>\n",
              "      <td>0</td>\n",
              "      <td>0</td>\n",
              "      <td>0</td>\n",
              "      <td>0</td>\n",
              "      <td>1</td>\n",
              "      <td>0</td>\n",
              "      <td>0</td>\n",
              "      <td>0</td>\n",
              "      <td>1</td>\n",
              "      <td>0</td>\n",
              "      <td>0</td>\n",
              "      <td>0</td>\n",
              "      <td>1</td>\n",
              "    </tr>\n",
              "    <tr>\n",
              "      <th>3</th>\n",
              "      <td>240</td>\n",
              "      <td>4.2</td>\n",
              "      <td>2007</td>\n",
              "      <td>1</td>\n",
              "      <td>0</td>\n",
              "      <td>0</td>\n",
              "      <td>0</td>\n",
              "      <td>0</td>\n",
              "      <td>0</td>\n",
              "      <td>0</td>\n",
              "      <td>1</td>\n",
              "      <td>0</td>\n",
              "      <td>0</td>\n",
              "      <td>0</td>\n",
              "      <td>0</td>\n",
              "      <td>0</td>\n",
              "      <td>0</td>\n",
              "      <td>0</td>\n",
              "      <td>0</td>\n",
              "      <td>1</td>\n",
              "      <td>0</td>\n",
              "      <td>1</td>\n",
              "    </tr>\n",
              "    <tr>\n",
              "      <th>4</th>\n",
              "      <td>120</td>\n",
              "      <td>2.0</td>\n",
              "      <td>2011</td>\n",
              "      <td>0</td>\n",
              "      <td>0</td>\n",
              "      <td>0</td>\n",
              "      <td>0</td>\n",
              "      <td>0</td>\n",
              "      <td>1</td>\n",
              "      <td>0</td>\n",
              "      <td>1</td>\n",
              "      <td>0</td>\n",
              "      <td>0</td>\n",
              "      <td>0</td>\n",
              "      <td>0</td>\n",
              "      <td>0</td>\n",
              "      <td>0</td>\n",
              "      <td>0</td>\n",
              "      <td>0</td>\n",
              "      <td>1</td>\n",
              "      <td>0</td>\n",
              "      <td>1</td>\n",
              "    </tr>\n",
              "  </tbody>\n",
              "</table>\n",
              "</div>"
            ],
            "text/plain": [
              "   Mileage  EngineV  ...  Registration_no  Registration_yes\n",
              "0      277      2.0  ...                0                 1\n",
              "1      427      2.9  ...                0                 1\n",
              "2      358      5.0  ...                0                 1\n",
              "3      240      4.2  ...                0                 1\n",
              "4      120      2.0  ...                0                 1\n",
              "\n",
              "[5 rows x 22 columns]"
            ]
          },
          "metadata": {
            "tags": []
          }
        },
        {
          "output_type": "stream",
          "text": [
            "(3476, 22)\n"
          ],
          "name": "stdout"
        },
        {
          "output_type": "display_data",
          "data": {
            "text/html": [
              "<div>\n",
              "<style scoped>\n",
              "    .dataframe tbody tr th:only-of-type {\n",
              "        vertical-align: middle;\n",
              "    }\n",
              "\n",
              "    .dataframe tbody tr th {\n",
              "        vertical-align: top;\n",
              "    }\n",
              "\n",
              "    .dataframe thead th {\n",
              "        text-align: right;\n",
              "    }\n",
              "</style>\n",
              "<table border=\"1\" class=\"dataframe\">\n",
              "  <thead>\n",
              "    <tr style=\"text-align: right;\">\n",
              "      <th></th>\n",
              "      <th>Mileage</th>\n",
              "      <th>EngineV</th>\n",
              "      <th>Year</th>\n",
              "      <th>Brand_Audi</th>\n",
              "      <th>Brand_BMW</th>\n",
              "      <th>Brand_Mercedes-Benz</th>\n",
              "      <th>Brand_Mitsubishi</th>\n",
              "      <th>Brand_Renault</th>\n",
              "      <th>Brand_Toyota</th>\n",
              "      <th>Brand_Volkswagen</th>\n",
              "      <th>Body_crossover</th>\n",
              "      <th>Body_hatch</th>\n",
              "      <th>Body_other</th>\n",
              "      <th>Body_sedan</th>\n",
              "      <th>Body_vagon</th>\n",
              "      <th>Body_van</th>\n",
              "      <th>Engine Type_Diesel</th>\n",
              "      <th>Engine Type_Gas</th>\n",
              "      <th>Engine Type_Other</th>\n",
              "      <th>Engine Type_Petrol</th>\n",
              "      <th>Registration_no</th>\n",
              "      <th>Registration_yes</th>\n",
              "    </tr>\n",
              "  </thead>\n",
              "  <tbody>\n",
              "    <tr>\n",
              "      <th>2350</th>\n",
              "      <td>116</td>\n",
              "      <td>1.5</td>\n",
              "      <td>2008</td>\n",
              "      <td>0</td>\n",
              "      <td>0</td>\n",
              "      <td>0</td>\n",
              "      <td>1</td>\n",
              "      <td>0</td>\n",
              "      <td>0</td>\n",
              "      <td>0</td>\n",
              "      <td>0</td>\n",
              "      <td>0</td>\n",
              "      <td>0</td>\n",
              "      <td>1</td>\n",
              "      <td>0</td>\n",
              "      <td>0</td>\n",
              "      <td>0</td>\n",
              "      <td>0</td>\n",
              "      <td>0</td>\n",
              "      <td>1</td>\n",
              "      <td>0</td>\n",
              "      <td>1</td>\n",
              "    </tr>\n",
              "    <tr>\n",
              "      <th>21</th>\n",
              "      <td>132</td>\n",
              "      <td>1.4</td>\n",
              "      <td>2006</td>\n",
              "      <td>0</td>\n",
              "      <td>0</td>\n",
              "      <td>0</td>\n",
              "      <td>0</td>\n",
              "      <td>0</td>\n",
              "      <td>0</td>\n",
              "      <td>1</td>\n",
              "      <td>0</td>\n",
              "      <td>1</td>\n",
              "      <td>0</td>\n",
              "      <td>0</td>\n",
              "      <td>0</td>\n",
              "      <td>0</td>\n",
              "      <td>1</td>\n",
              "      <td>0</td>\n",
              "      <td>0</td>\n",
              "      <td>0</td>\n",
              "      <td>0</td>\n",
              "      <td>1</td>\n",
              "    </tr>\n",
              "    <tr>\n",
              "      <th>2759</th>\n",
              "      <td>255</td>\n",
              "      <td>2.5</td>\n",
              "      <td>2002</td>\n",
              "      <td>0</td>\n",
              "      <td>0</td>\n",
              "      <td>0</td>\n",
              "      <td>0</td>\n",
              "      <td>0</td>\n",
              "      <td>0</td>\n",
              "      <td>1</td>\n",
              "      <td>0</td>\n",
              "      <td>0</td>\n",
              "      <td>0</td>\n",
              "      <td>0</td>\n",
              "      <td>0</td>\n",
              "      <td>1</td>\n",
              "      <td>1</td>\n",
              "      <td>0</td>\n",
              "      <td>0</td>\n",
              "      <td>0</td>\n",
              "      <td>0</td>\n",
              "      <td>1</td>\n",
              "    </tr>\n",
              "    <tr>\n",
              "      <th>2990</th>\n",
              "      <td>0</td>\n",
              "      <td>3.0</td>\n",
              "      <td>2016</td>\n",
              "      <td>0</td>\n",
              "      <td>0</td>\n",
              "      <td>1</td>\n",
              "      <td>0</td>\n",
              "      <td>0</td>\n",
              "      <td>0</td>\n",
              "      <td>0</td>\n",
              "      <td>1</td>\n",
              "      <td>0</td>\n",
              "      <td>0</td>\n",
              "      <td>0</td>\n",
              "      <td>0</td>\n",
              "      <td>0</td>\n",
              "      <td>1</td>\n",
              "      <td>0</td>\n",
              "      <td>0</td>\n",
              "      <td>0</td>\n",
              "      <td>0</td>\n",
              "      <td>1</td>\n",
              "    </tr>\n",
              "    <tr>\n",
              "      <th>1772</th>\n",
              "      <td>52</td>\n",
              "      <td>1.6</td>\n",
              "      <td>2013</td>\n",
              "      <td>0</td>\n",
              "      <td>0</td>\n",
              "      <td>0</td>\n",
              "      <td>1</td>\n",
              "      <td>0</td>\n",
              "      <td>0</td>\n",
              "      <td>0</td>\n",
              "      <td>0</td>\n",
              "      <td>0</td>\n",
              "      <td>0</td>\n",
              "      <td>1</td>\n",
              "      <td>0</td>\n",
              "      <td>0</td>\n",
              "      <td>0</td>\n",
              "      <td>0</td>\n",
              "      <td>0</td>\n",
              "      <td>1</td>\n",
              "      <td>0</td>\n",
              "      <td>1</td>\n",
              "    </tr>\n",
              "  </tbody>\n",
              "</table>\n",
              "</div>"
            ],
            "text/plain": [
              "      Mileage  EngineV  ...  Registration_no  Registration_yes\n",
              "2350      116      1.5  ...                0                 1\n",
              "21        132      1.4  ...                0                 1\n",
              "2759      255      2.5  ...                0                 1\n",
              "2990        0      3.0  ...                0                 1\n",
              "1772       52      1.6  ...                0                 1\n",
              "\n",
              "[5 rows x 22 columns]"
            ]
          },
          "metadata": {
            "tags": []
          }
        },
        {
          "output_type": "display_data",
          "data": {
            "text/plain": [
              "2350     6300.000000\n",
              "21       7500.000000\n",
              "2759     9700.000000\n",
              "2990    19418.746935\n",
              "1772    12400.000000\n",
              "Name: Price, dtype: float64"
            ]
          },
          "metadata": {
            "tags": []
          }
        }
      ]
    },
    {
      "cell_type": "markdown",
      "metadata": {
        "id": "ZLgbGY4b_-_C"
      },
      "source": [
        "\n",
        "\n",
        "### **4. Modelamiento**"
      ]
    },
    {
      "cell_type": "markdown",
      "metadata": {
        "id": "EzuGa5Zq_-_D"
      },
      "source": [
        "#### **Regresión Lineal**\n",
        "\n",
        "Para utilizar la Regresión Lineal, se utilizará la librería [sklearn](https://scikit-learn.org/stable/index.html). Ahí podrán encontrar la documentación de los diferentes algoritmos que forece la librería.\n"
      ]
    },
    {
      "cell_type": "code",
      "metadata": {
        "colab": {
          "base_uri": "https://localhost:8080/"
        },
        "id": "9l9aTF3G_-_F",
        "outputId": "b9c50f86-3223-42bf-f8cd-bfc241a0b278"
      },
      "source": [
        "regr = LinearRegression()\n",
        "regr.fit(X_train, Y_train)"
      ],
      "execution_count": null,
      "outputs": [
        {
          "output_type": "execute_result",
          "data": {
            "text/plain": [
              "LinearRegression(copy_X=True, fit_intercept=True, n_jobs=None, normalize=False)"
            ]
          },
          "metadata": {
            "tags": []
          },
          "execution_count": 9
        }
      ]
    },
    {
      "cell_type": "markdown",
      "metadata": {
        "id": "vyd236Io_-_J"
      },
      "source": [
        "### **5. Predicción**"
      ]
    },
    {
      "cell_type": "markdown",
      "metadata": {
        "id": "2miHaiWL_-_J"
      },
      "source": [
        "Realizamos la muestra de los valores ajustados."
      ]
    },
    {
      "cell_type": "code",
      "metadata": {
        "colab": {
          "base_uri": "https://localhost:8080/"
        },
        "id": "W7Jsjz89_-_K",
        "outputId": "3baeaa45-21f1-4a47-b177-9546a4fe7597"
      },
      "source": [
        "y_pred = regr.predict(X_train)\n",
        "y_pred"
      ],
      "execution_count": null,
      "outputs": [
        {
          "output_type": "execute_result",
          "data": {
            "text/plain": [
              "array([10472.63412064, 11764.87129306,  2286.04966334, ...,\n",
              "       -1609.66875372, 39478.29581974,   645.24614241])"
            ]
          },
          "metadata": {
            "tags": []
          },
          "execution_count": 10
        }
      ]
    },
    {
      "cell_type": "markdown",
      "metadata": {
        "id": "WWDqEpbpy6Dw"
      },
      "source": [
        "Y luego, evualuamos el rendimiento con respecto a nuestros datos de entrenamiento."
      ]
    },
    {
      "cell_type": "code",
      "metadata": {
        "colab": {
          "base_uri": "https://localhost:8080/"
        },
        "id": "q_hMbpSpy_mB",
        "outputId": "8e6529af-0e19-4027-a380-8e5c4c4345c2"
      },
      "source": [
        "print('Mean Squared Error:', mean_squared_error(Y_train, y_pred)) \n",
        "print('Mean Absolute Error:', median_absolute_error(Y_train, y_pred))\n",
        "print('R2 score:', r2_score(Y_train, y_pred))"
      ],
      "execution_count": null,
      "outputs": [
        {
          "output_type": "stream",
          "text": [
            "Mean Squared Error: 382511348.04829335\n",
            "Mean Absolute Error: 6305.178630740149\n",
            "R2 score: 0.4048613935445201\n"
          ],
          "name": "stdout"
        }
      ]
    },
    {
      "cell_type": "markdown",
      "metadata": {
        "id": "zxOljPun_-_N"
      },
      "source": [
        "### **6. Validación**"
      ]
    },
    {
      "cell_type": "markdown",
      "metadata": {
        "id": "-9uUBwu8_-_N"
      },
      "source": [
        "Para comparar el modelo en producción, se realiza la evaluación en el conjunto de test ya que son datos que el modelo aún no conoce."
      ]
    },
    {
      "cell_type": "code",
      "metadata": {
        "colab": {
          "base_uri": "https://localhost:8080/"
        },
        "id": "p1gEd8yT_-_N",
        "outputId": "9517c5ad-44f2-4ba5-b554-a54cc2be5d91"
      },
      "source": [
        "Y_new  = regr.predict(X_test)\n",
        "\n",
        "print('Mean Squared Error:', mean_squared_error(Y_test, Y_new)) \n",
        "print('Mean Absolute Error:', median_absolute_error(Y_test, Y_new))\n",
        "print('R2 score:', r2_score(Y_test, Y_new))"
      ],
      "execution_count": null,
      "outputs": [
        {
          "output_type": "stream",
          "text": [
            "Mean Squared Error: 319457069.2366497\n",
            "Mean Absolute Error: 6305.109046997502\n",
            "R2 score: 0.4410611615253619\n"
          ],
          "name": "stdout"
        }
      ]
    },
    {
      "cell_type": "markdown",
      "metadata": {
        "id": "SzOExJJA0aTV"
      },
      "source": [
        "Ahora, lo vamos a intentar con una regresión regularizada, para ver si mejora el rendimiento."
      ]
    },
    {
      "cell_type": "markdown",
      "metadata": {
        "id": "R6QoaiZ10sbq"
      },
      "source": [
        "\n",
        "\n",
        "### **4. Modelamiento**"
      ]
    },
    {
      "cell_type": "markdown",
      "metadata": {
        "id": "sUxqiEVq0sbr"
      },
      "source": [
        "#### **Regresión Linear Regularizada**\n",
        "\n",
        "La regularización ayuda a resolver el problema de sobreajuste, lo que implica que el modelo funciona bien en los datos de entrenamiento pero tiene un mal desempeño en los datos de validación (prueba). \n",
        "\n",
        "La regularización resuelve este problema al agregar un término de penalización a la función objetivo y controlar la complejidad del modelo utilizando ese término de penalización.\n",
        "\n",
        "La regularización es generalmente útil en las siguientes situaciones:\n",
        "\n",
        "*   Gran cantidad de variables\n",
        "*   Baja relación de observaciones numéricas a número de variables\n",
        "*   Alta multicolinealidad\n"
      ]
    },
    {
      "cell_type": "markdown",
      "metadata": {
        "id": "iCSOX-Jc1Bp1"
      },
      "source": [
        "#### **Regresión Ridge**\n",
        "\n",
        "* La regresión Ridge (cresta) o la *regresión por contracción* hace uso de la regularización de L2. \n",
        "\n",
        "* En la regularización de L2 intentamos minimizar la función objetivo agregando un término de penalización(alpha) a la suma de los cuadrados de los coeficientes. \n",
        "\n",
        "* Generalmente, a mayor valor de alpha más regularización por lo tanto el modelo se simplifica más."
      ]
    },
    {
      "cell_type": "code",
      "metadata": {
        "colab": {
          "base_uri": "https://localhost:8080/"
        },
        "id": "ch0JaY_f0sbs",
        "outputId": "37e1e77e-a430-4e74-c30e-70dbd9c224ad"
      },
      "source": [
        "RidgeModel = Ridge(alpha = 5)\n",
        "RidgeModel.fit(X_train, Y_train)"
      ],
      "execution_count": null,
      "outputs": [
        {
          "output_type": "execute_result",
          "data": {
            "text/plain": [
              "Ridge(alpha=5, copy_X=True, fit_intercept=True, max_iter=None, normalize=False,\n",
              "      random_state=None, solver='auto', tol=0.001)"
            ]
          },
          "metadata": {
            "tags": []
          },
          "execution_count": 13
        }
      ]
    },
    {
      "cell_type": "markdown",
      "metadata": {
        "id": "wAsaG84T0sbt"
      },
      "source": [
        "### **5. Predicción**"
      ]
    },
    {
      "cell_type": "markdown",
      "metadata": {
        "id": "kcAQgZq20sbu"
      },
      "source": [
        "Realizamos la muestra de los valores ajustados."
      ]
    },
    {
      "cell_type": "code",
      "metadata": {
        "colab": {
          "base_uri": "https://localhost:8080/"
        },
        "id": "w2ChKfUt0sbu",
        "outputId": "f47e88f7-eb6c-4cd2-aab3-58c572a34f18"
      },
      "source": [
        "y_pred = RidgeModel.predict(X_train)\n",
        "y_pred"
      ],
      "execution_count": null,
      "outputs": [
        {
          "output_type": "execute_result",
          "data": {
            "text/plain": [
              "array([10708.29271532, 11836.81738564,  2303.90971297, ...,\n",
              "       -1690.77358114, 39435.35374429,   873.23192844])"
            ]
          },
          "metadata": {
            "tags": []
          },
          "execution_count": 14
        }
      ]
    },
    {
      "cell_type": "markdown",
      "metadata": {
        "id": "Nhy8ZGwk0sbv"
      },
      "source": [
        "Y luego, evualuamos el rendimiento con respecto a nuestros datos de entrenamiento."
      ]
    },
    {
      "cell_type": "code",
      "metadata": {
        "colab": {
          "base_uri": "https://localhost:8080/"
        },
        "id": "8uHY70m30sbv",
        "outputId": "ab042a24-39bd-4df6-a7f5-ae17acbc1a0a"
      },
      "source": [
        "print('Mean Squared Error:', mean_squared_error(Y_train, y_pred)) \n",
        "print('Mean Absolute Error:', median_absolute_error(Y_train, y_pred))\n",
        "print('R2 score:', r2_score(Y_train, y_pred))"
      ],
      "execution_count": null,
      "outputs": [
        {
          "output_type": "stream",
          "text": [
            "Mean Squared Error: 382521366.3270827\n",
            "Mean Absolute Error: 6306.56732690474\n",
            "R2 score: 0.40484580638741174\n"
          ],
          "name": "stdout"
        }
      ]
    },
    {
      "cell_type": "markdown",
      "metadata": {
        "id": "VbLz2Ygx0sbw"
      },
      "source": [
        "### **6. Validación**"
      ]
    },
    {
      "cell_type": "markdown",
      "metadata": {
        "id": "-A0T7nBe0sbx"
      },
      "source": [
        "Para comparar el modelo en producción, se realiza la evaluación en el conjunto de test ya que son datos que el modelo aún no conoce."
      ]
    },
    {
      "cell_type": "code",
      "metadata": {
        "colab": {
          "base_uri": "https://localhost:8080/"
        },
        "id": "ZkhVx0jd0sbx",
        "outputId": "fd704d45-b702-417f-f38b-fef334506ff1"
      },
      "source": [
        "Y_new  = RidgeModel.predict(X_test)\n",
        "\n",
        "print('Mean Squared Error:', mean_squared_error(Y_test, Y_new)) \n",
        "print('Mean Absolute Error:', median_absolute_error(Y_test, Y_new))\n",
        "print('R2 score:', r2_score(Y_test, Y_new))"
      ],
      "execution_count": null,
      "outputs": [
        {
          "output_type": "stream",
          "text": [
            "Mean Squared Error: 319418656.18077993\n",
            "Mean Absolute Error: 6262.532574357465\n",
            "R2 score: 0.44112837102202873\n"
          ],
          "name": "stdout"
        }
      ]
    },
    {
      "cell_type": "markdown",
      "metadata": {
        "id": "uK6Gm_Bb0sby"
      },
      "source": [
        "¿Y que pasa si aumentamos el valor de alpha?"
      ]
    },
    {
      "cell_type": "code",
      "metadata": {
        "colab": {
          "base_uri": "https://localhost:8080/"
        },
        "id": "DRv0Fl7V1rbD",
        "outputId": "59d859d3-df8e-4fc1-e85a-0ddb0c328943"
      },
      "source": [
        "RidgeModel = Ridge(alpha = 10)\n",
        "RidgeModel.fit(X_train, Y_train)\n",
        "y_pred = RidgeModel.predict(X_train)\n",
        "print('-----Train Report-----')\n",
        "print('Mean Squared Error:',mean_squared_error(Y_train, y_pred)) \n",
        "print('Mean Absolute Error:',median_absolute_error(Y_train, y_pred))\n",
        "print('R2 score:', r2_score(Y_train, y_pred))\n",
        "\n",
        "Y_new  = RidgeModel.predict(X_test)\n",
        "print('-----Test Report-----')\n",
        "print('Mean Squared Error:',mean_squared_error(Y_test, Y_new)) \n",
        "print('Mean Absolute Error:',median_absolute_error(Y_test,Y_new))\n",
        "print('R2 score:', r2_score(Y_test,Y_new))"
      ],
      "execution_count": null,
      "outputs": [
        {
          "output_type": "stream",
          "text": [
            "-----Train Report-----\n",
            "Mean Squared Error: 382550326.9360949\n",
            "Mean Absolute Error: 6321.3498215179425\n",
            "R2 score: 0.4048007473935348\n",
            "-----Test Report-----\n",
            "Mean Squared Error: 319403272.25079584\n",
            "Mean Absolute Error: 6228.937700839713\n",
            "R2 score: 0.44115528755255673\n"
          ],
          "name": "stdout"
        }
      ]
    },
    {
      "cell_type": "code",
      "metadata": {
        "colab": {
          "base_uri": "https://localhost:8080/"
        },
        "id": "TN7zK84o2Bmt",
        "outputId": "f948c75f-716c-482b-9788-2c96f6568bb8"
      },
      "source": [
        "RidgeModel = Ridge(alpha = 100)\n",
        "RidgeModel.fit(X_train, Y_train)\n",
        "y_pred = RidgeModel.predict(X_train)\n",
        "print('-----Train Report-----')\n",
        "print('Mean Squared Error:',mean_squared_error(Y_train,y_pred)) \n",
        "print('Mean Absolute Error:',median_absolute_error(Y_train,y_pred))\n",
        "print('R2 score:', r2_score(Y_train,y_pred))\n",
        "\n",
        "Y_new  = RidgeModel.predict(X_test)\n",
        "print('-----Test Report-----')\n",
        "print('Mean Squared Error:',mean_squared_error(Y_test,Y_new)) \n",
        "print('Mean Absolute Error:',median_absolute_error(Y_test,Y_new))\n",
        "print('R2 score:', r2_score(Y_test,Y_new))"
      ],
      "execution_count": null,
      "outputs": [
        {
          "output_type": "stream",
          "text": [
            "-----Train Report-----\n",
            "Mean Squared Error: 385071380.8098559\n",
            "Mean Absolute Error: 6438.121857853606\n",
            "R2 score: 0.40087831085175685\n",
            "-----Test Report-----\n",
            "Mean Squared Error: 321557594.4447766\n",
            "Mean Absolute Error: 6217.788496518042\n",
            "R2 score: 0.4373859724840844\n"
          ],
          "name": "stdout"
        }
      ]
    },
    {
      "cell_type": "markdown",
      "metadata": {
        "id": "KByPN0kDaF6s"
      },
      "source": [
        "Ahora, como nuestra Regresión Ridge dió mejores resultados, vamos a salvar el modelo."
      ]
    },
    {
      "cell_type": "code",
      "metadata": {
        "colab": {
          "base_uri": "https://localhost:8080/"
        },
        "id": "7GekF7TYaNoE",
        "outputId": "107556f1-474e-4fa0-e844-ca23a455f633"
      },
      "source": [
        "print(list(zip(X.columns,RidgeModel.coef_)))\n",
        "dump(RidgeModel, 'my_model.joblib') "
      ],
      "execution_count": null,
      "outputs": [
        {
          "output_type": "stream",
          "text": [
            "[('Mileage', -49.54662758314919), ('EngineV', 190.19178029807958), ('Year', 1097.328984954081), ('Brand_Audi', 3290.6407542500992), ('Brand_BMW', 5276.480145556894), ('Brand_Mercedes-Benz', 10631.064292798777), ('Brand_Mitsubishi', -7053.218570948921), ('Brand_Renault', -7464.101300560777), ('Brand_Toyota', -2192.7954007317094), ('Brand_Volkswagen', -2488.069920364704), ('Body_crossover', 9621.030500976389), ('Body_hatch', -3619.9401709714502), ('Body_other', 702.1227362595839), ('Body_sedan', -1204.1483844354293), ('Body_vagon', -1926.4547935893156), ('Body_van', -3572.609888239922), ('Engine Type_Diesel', 1113.5535605527127), ('Engine Type_Gas', -1582.8909876791402), ('Engine Type_Other', -820.2960015528989), ('Engine Type_Petrol', 1289.633428679349), ('Registration_no', -2929.981046744431), ('Registration_yes', 2929.9810467444486)]\n"
          ],
          "name": "stdout"
        },
        {
          "output_type": "execute_result",
          "data": {
            "text/plain": [
              "['my_model.joblib']"
            ]
          },
          "metadata": {
            "tags": []
          },
          "execution_count": 19
        }
      ]
    },
    {
      "cell_type": "markdown",
      "metadata": {
        "id": "22fC4EcNhZZx"
      },
      "source": [
        "Luego, cargamos el modelo y mostramos los coeficientes para comprobar que cargó correctamente."
      ]
    },
    {
      "cell_type": "code",
      "metadata": {
        "colab": {
          "base_uri": "https://localhost:8080/"
        },
        "id": "BsWgvWmbhA3-",
        "outputId": "da66378b-b4b9-4596-94e7-c5a0975c2c99"
      },
      "source": [
        "model = load('my_model.joblib') \n",
        "print(list(zip(X.columns,model.coef_)))"
      ],
      "execution_count": null,
      "outputs": [
        {
          "output_type": "stream",
          "text": [
            "[('Mileage', -49.54662758314919), ('EngineV', 190.19178029807958), ('Year', 1097.328984954081), ('Brand_Audi', 3290.6407542500992), ('Brand_BMW', 5276.480145556894), ('Brand_Mercedes-Benz', 10631.064292798777), ('Brand_Mitsubishi', -7053.218570948921), ('Brand_Renault', -7464.101300560777), ('Brand_Toyota', -2192.7954007317094), ('Brand_Volkswagen', -2488.069920364704), ('Body_crossover', 9621.030500976389), ('Body_hatch', -3619.9401709714502), ('Body_other', 702.1227362595839), ('Body_sedan', -1204.1483844354293), ('Body_vagon', -1926.4547935893156), ('Body_van', -3572.609888239922), ('Engine Type_Diesel', 1113.5535605527127), ('Engine Type_Gas', -1582.8909876791402), ('Engine Type_Other', -820.2960015528989), ('Engine Type_Petrol', 1289.633428679349), ('Registration_no', -2929.981046744431), ('Registration_yes', 2929.9810467444486)]\n"
          ],
          "name": "stdout"
        }
      ]
    },
    {
      "cell_type": "markdown",
      "metadata": {
        "id": "RZzI0TEtoQKN"
      },
      "source": [
        "## Taller\n",
        "## Segundo Problema\n"
      ]
    },
    {
      "cell_type": "markdown",
      "metadata": {
        "id": "whCqblnhodDq"
      },
      "source": [
        "Debido al rendimiento de los modelos, la gerencia le ha pedido que examine un tercero, la Regresión Lasso. Para ello, tiene que determinar cuál sería el mejor modelo para el concesionario. Debido a esto, se implementan los siguientes pasos:\n",
        "\n",
        "1. Como medida de preparación de datos para mejorar el rendimiento, puede intentar normalizar los datos (Para los modelos de Regresión Lineal y regresión Ridge).\n",
        "2. Utilizar un conjunto de validación para encontrar el mejor valor de alpha para la [Regresión Lasso](https://scikit-learn.org/stable/modules/generated/sklearn.linear_model.Lasso.html#sklearn.linear_model.Lasso).\n",
        "3. Seleccionar el mejor modelo para la producción del concesionario."
      ]
    },
    {
      "cell_type": "code",
      "metadata": {
        "id": "5-0p3KY7fWiD"
      },
      "source": [
        ""
      ],
      "execution_count": null,
      "outputs": []
    }
  ]
}